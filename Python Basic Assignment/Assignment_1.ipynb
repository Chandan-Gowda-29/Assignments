{
 "cells": [
  {
   "cell_type": "markdown",
   "id": "3bb2ef13",
   "metadata": {},
   "source": [
    "# Python Basic Assignment_1"
   ]
  },
  {
   "cell_type": "markdown",
   "id": "6a7d8a72",
   "metadata": {},
   "source": [
    "### 1. In the below elements which of them are values or an expression? eg:- values can be integer or string and expressions will be mathematical operators."
   ]
  },
  {
   "cell_type": "markdown",
   "id": "fe3aa154",
   "metadata": {},
   "source": [
    "### *, 'hello', -87.8, -, /, +,6"
   ]
  },
  {
   "cell_type": "markdown",
   "id": "f2146ee5",
   "metadata": {},
   "source": [
    "Values are 'hello', -87.8, 6<br>\n",
    "Expressions are *, -, /, +"
   ]
  },
  {
   "cell_type": "markdown",
   "id": "795341e5",
   "metadata": {},
   "source": [
    "### 2. What is the difference between string and variable?"
   ]
  },
  {
   "cell_type": "markdown",
   "id": "c3123a17",
   "metadata": {},
   "source": [
    "A variable is basically the name of the location in the primary memory of your computer. This can be chosen by you. A variable can store everything from strings to numbers.\n",
    "\n",
    "A string is a sequence of characters which are inside a single quote or double-quotes.\n",
    "\n",
    "A variable can hold a string, but a string can't hold a variable"
   ]
  },
  {
   "cell_type": "markdown",
   "id": "adc533cb",
   "metadata": {},
   "source": [
    "### 3. Describe three different data types."
   ]
  },
  {
   "cell_type": "markdown",
   "id": "f9ef8759",
   "metadata": {},
   "source": [
    "Data types are the classification or categorization of data items. It represents the kind of value that tells what operations can be performed on a particular data. Since everything is an object in Python programming, data types are actually classes and variables are instance (object) of these classes.\n",
    "\n",
    "Following are the standard or built-in data types of Python:\n",
    "\n",
    "1 Numeric: Integer, Float and Complex Number<br>\n",
    "2 Sequence: String, tuple and list<br>\n",
    "3 Boolean<br>\n",
    "4 Set<br>\n",
    "5 Dictionary"
   ]
  },
  {
   "cell_type": "markdown",
   "id": "6397ace7",
   "metadata": {},
   "source": [
    "### 4. What is an expression made up of? What do all expressions do?"
   ]
  },
  {
   "cell_type": "markdown",
   "id": "d1c0da6d",
   "metadata": {},
   "source": [
    "An expression is a combination of operators and operands that is interpreted to produce some other value. In any programming language, an expression is evaluated as per the precedence of its operators. So that if there is more than one operator in an expression, their precedence decides which operation will be performed first. "
   ]
  },
  {
   "cell_type": "markdown",
   "id": "b70d3678",
   "metadata": {},
   "source": [
    "### 5. This assignment statements, like spam = 10. What is the difference between an expression and a statement?"
   ]
  },
  {
   "cell_type": "markdown",
   "id": "352060f5",
   "metadata": {},
   "source": [
    "An “expression” is a combination of values and functions that are combined and interpreted by the compiler to create a new value, as opposed to a “statement” which is just a standalone unit of execution and doesn't return anything."
   ]
  },
  {
   "cell_type": "markdown",
   "id": "9b38c338",
   "metadata": {},
   "source": [
    "### 6. After running the following code, what does the variable bacon contain?\n",
    "**bacon = 22<br>\n",
    "bacon + 1**"
   ]
  },
  {
   "cell_type": "code",
   "execution_count": 1,
   "id": "57ab2b60",
   "metadata": {},
   "outputs": [
    {
     "data": {
      "text/plain": [
       "23"
      ]
     },
     "execution_count": 1,
     "metadata": {},
     "output_type": "execute_result"
    }
   ],
   "source": [
    "bacon = 22\n",
    "bacon + 1"
   ]
  },
  {
   "cell_type": "markdown",
   "id": "ef197efa",
   "metadata": {},
   "source": [
    "The variable bacon contains the value 22."
   ]
  },
  {
   "cell_type": "markdown",
   "id": "d808e42c",
   "metadata": {},
   "source": [
    "### 7. What should the values of the following two terms be?\n",
    "**'spam' + 'spamspam'<br>\n",
    "'spam' * 3**"
   ]
  },
  {
   "cell_type": "code",
   "execution_count": 2,
   "id": "6fb1a157",
   "metadata": {},
   "outputs": [
    {
     "data": {
      "text/plain": [
       "'spamspamspam'"
      ]
     },
     "execution_count": 2,
     "metadata": {},
     "output_type": "execute_result"
    }
   ],
   "source": [
    "'spam' + 'spamspam'"
   ]
  },
  {
   "cell_type": "code",
   "execution_count": 3,
   "id": "0d5bd8a4",
   "metadata": {},
   "outputs": [
    {
     "data": {
      "text/plain": [
       "'spamspamspam'"
      ]
     },
     "execution_count": 3,
     "metadata": {},
     "output_type": "execute_result"
    }
   ],
   "source": [
    "'spam' * 3"
   ]
  },
  {
   "cell_type": "markdown",
   "id": "7b37496d",
   "metadata": {},
   "source": [
    "### 8. Why is eggs a valid variable name while 100 is invalid?"
   ]
  },
  {
   "cell_type": "markdown",
   "id": "8e959f11",
   "metadata": {},
   "source": [
    "Variable name should start with letter(a-zA-Z) or underscore (_) and no special characters allowed other than underscore (_)\n",
    "Variable name can have numbers but not at the beginning. So 100 is not a valid variable name."
   ]
  },
  {
   "cell_type": "markdown",
   "id": "f0c9014b",
   "metadata": {},
   "source": [
    "### 9. What three functions can be used to get the integer, floating-point number, or string version of a value?"
   ]
  },
  {
   "cell_type": "markdown",
   "id": "91f10abc",
   "metadata": {},
   "source": [
    "The int() , float() , and str( ) functions will evaluate to the integer, floating-point number, and string versions of the value passed to them."
   ]
  },
  {
   "cell_type": "markdown",
   "id": "4f75a3e4",
   "metadata": {},
   "source": [
    "### 10. Why does this expression cause an error? How can you fix it?\n",
    "**'I have eaten ' + 99 + ' burritos.'**"
   ]
  },
  {
   "cell_type": "code",
   "execution_count": 4,
   "id": "cc472a32",
   "metadata": {},
   "outputs": [
    {
     "ename": "TypeError",
     "evalue": "can only concatenate str (not \"int\") to str",
     "output_type": "error",
     "traceback": [
      "\u001b[1;31m---------------------------------------------------------------------------\u001b[0m",
      "\u001b[1;31mTypeError\u001b[0m                                 Traceback (most recent call last)",
      "\u001b[1;32m<ipython-input-4-d24137131a5c>\u001b[0m in \u001b[0;36m<module>\u001b[1;34m\u001b[0m\n\u001b[1;32m----> 1\u001b[1;33m \u001b[1;34m'I have eaten '\u001b[0m \u001b[1;33m+\u001b[0m \u001b[1;36m99\u001b[0m \u001b[1;33m+\u001b[0m \u001b[1;34m' burritos.'\u001b[0m\u001b[1;33m\u001b[0m\u001b[1;33m\u001b[0m\u001b[0m\n\u001b[0m",
      "\u001b[1;31mTypeError\u001b[0m: can only concatenate str (not \"int\") to str"
     ]
    }
   ],
   "source": [
    "'I have eaten ' + 99 + ' burritos.'"
   ]
  },
  {
   "cell_type": "markdown",
   "id": "34b3e391",
   "metadata": {},
   "source": [
    "As seen above, you can only concatenate str to str.\n",
    "we can fix it by converting 99 into a str datatype as shown below."
   ]
  },
  {
   "cell_type": "code",
   "execution_count": 5,
   "id": "1c035ad1",
   "metadata": {},
   "outputs": [
    {
     "data": {
      "text/plain": [
       "'I have eaten 99 burritos.'"
      ]
     },
     "execution_count": 5,
     "metadata": {},
     "output_type": "execute_result"
    }
   ],
   "source": [
    "'I have eaten ' + str(99) + ' burritos.'"
   ]
  }
 ],
 "metadata": {
  "kernelspec": {
   "display_name": "Python 3",
   "language": "python",
   "name": "python3"
  },
  "language_info": {
   "codemirror_mode": {
    "name": "ipython",
    "version": 3
   },
   "file_extension": ".py",
   "mimetype": "text/x-python",
   "name": "python",
   "nbconvert_exporter": "python",
   "pygments_lexer": "ipython3",
   "version": "3.8.8"
  },
  "toc": {
   "base_numbering": 1,
   "nav_menu": {},
   "number_sections": false,
   "sideBar": true,
   "skip_h1_title": false,
   "title_cell": "Table of Contents",
   "title_sidebar": "Contents",
   "toc_cell": false,
   "toc_position": {},
   "toc_section_display": true,
   "toc_window_display": false
  },
  "varInspector": {
   "cols": {
    "lenName": 16,
    "lenType": 16,
    "lenVar": 40
   },
   "kernels_config": {
    "python": {
     "delete_cmd_postfix": "",
     "delete_cmd_prefix": "del ",
     "library": "var_list.py",
     "varRefreshCmd": "print(var_dic_list())"
    },
    "r": {
     "delete_cmd_postfix": ") ",
     "delete_cmd_prefix": "rm(",
     "library": "var_list.r",
     "varRefreshCmd": "cat(var_dic_list()) "
    }
   },
   "types_to_exclude": [
    "module",
    "function",
    "builtin_function_or_method",
    "instance",
    "_Feature"
   ],
   "window_display": false
  }
 },
 "nbformat": 4,
 "nbformat_minor": 5
}
