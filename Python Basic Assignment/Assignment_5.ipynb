{
 "cells": [
  {
   "cell_type": "markdown",
   "id": "4155c24b",
   "metadata": {},
   "source": [
    "# Python Basic Assignment_5"
   ]
  },
  {
   "cell_type": "markdown",
   "id": "33b95ad0",
   "metadata": {},
   "source": [
    "### 1. What does an empty dictionary's code look like?"
   ]
  },
  {
   "cell_type": "code",
   "execution_count": 1,
   "id": "c25a76e8",
   "metadata": {},
   "outputs": [
    {
     "data": {
      "text/plain": [
       "dict"
      ]
     },
     "execution_count": 1,
     "metadata": {},
     "output_type": "execute_result"
    }
   ],
   "source": [
    "dict = {}\n",
    "type(dict)"
   ]
  },
  {
   "cell_type": "markdown",
   "id": "d05105c4",
   "metadata": {},
   "source": [
    "### 2. What is the value of a dictionary value with the key 'foo' and the value 42?"
   ]
  },
  {
   "cell_type": "code",
   "execution_count": 2,
   "id": "a4e3ccd9",
   "metadata": {},
   "outputs": [
    {
     "data": {
      "text/plain": [
       "{'foo': 42}"
      ]
     },
     "execution_count": 2,
     "metadata": {},
     "output_type": "execute_result"
    }
   ],
   "source": [
    "{'foo':42}"
   ]
  },
  {
   "cell_type": "markdown",
   "id": "5a6057f2",
   "metadata": {},
   "source": [
    "### 3. What is the most significant distinction between a dictionary and a list?"
   ]
  },
  {
   "cell_type": "markdown",
   "id": "291efc0d",
   "metadata": {},
   "source": [
    "Most significant difference between a dictionary and a list:<br>\n",
    "List - items in list are Ordered<br>\n",
    "Dictionary : items in dictionary are unordered"
   ]
  },
  {
   "cell_type": "markdown",
   "id": "b0282582",
   "metadata": {},
   "source": [
    "### 4. What happens if you try to access spam['foo'] if spam is {'bar': 100}?"
   ]
  },
  {
   "cell_type": "code",
   "execution_count": 3,
   "id": "5f3b2dff",
   "metadata": {},
   "outputs": [
    {
     "ename": "KeyError",
     "evalue": "'foo'",
     "output_type": "error",
     "traceback": [
      "\u001b[1;31m---------------------------------------------------------------------------\u001b[0m",
      "\u001b[1;31mKeyError\u001b[0m                                  Traceback (most recent call last)",
      "\u001b[1;32m<ipython-input-3-d70bf0ff192c>\u001b[0m in \u001b[0;36m<module>\u001b[1;34m\u001b[0m\n\u001b[0;32m      1\u001b[0m \u001b[0mspam\u001b[0m \u001b[1;33m=\u001b[0m \u001b[1;33m{\u001b[0m\u001b[1;34m'bar'\u001b[0m\u001b[1;33m:\u001b[0m\u001b[1;36m100\u001b[0m\u001b[1;33m}\u001b[0m\u001b[1;33m\u001b[0m\u001b[1;33m\u001b[0m\u001b[0m\n\u001b[1;32m----> 2\u001b[1;33m \u001b[0mspam\u001b[0m\u001b[1;33m[\u001b[0m\u001b[1;34m'foo'\u001b[0m\u001b[1;33m]\u001b[0m          \u001b[1;31m#This will give us key error\u001b[0m\u001b[1;33m\u001b[0m\u001b[1;33m\u001b[0m\u001b[0m\n\u001b[0m",
      "\u001b[1;31mKeyError\u001b[0m: 'foo'"
     ]
    }
   ],
   "source": [
    "spam = {'bar':100}\n",
    "spam['foo']          #This will give us key error"
   ]
  },
  {
   "cell_type": "markdown",
   "id": "630fe197",
   "metadata": {},
   "source": [
    "### 5. If a dictionary is stored in spam, what is the difference between the expressions 'cat' in spam and 'cat' in spam.keys()?"
   ]
  },
  {
   "cell_type": "code",
   "execution_count": 4,
   "id": "e2f05c26",
   "metadata": {},
   "outputs": [
    {
     "data": {
      "text/plain": [
       "True"
      ]
     },
     "execution_count": 4,
     "metadata": {},
     "output_type": "execute_result"
    }
   ],
   "source": [
    "spam ={'cat':8}\n",
    "'cat' in spam"
   ]
  },
  {
   "cell_type": "code",
   "execution_count": 5,
   "id": "2dc34b83",
   "metadata": {},
   "outputs": [
    {
     "data": {
      "text/plain": [
       "True"
      ]
     },
     "execution_count": 5,
     "metadata": {},
     "output_type": "execute_result"
    }
   ],
   "source": [
    "'cat' in spam.keys()"
   ]
  },
  {
   "cell_type": "markdown",
   "id": "c62fce60",
   "metadata": {},
   "source": [
    "There is no differnce, both check if 'cat' is key of the dictionary and if its a key, returns True."
   ]
  },
  {
   "cell_type": "markdown",
   "id": "75a06763",
   "metadata": {},
   "source": [
    "### 6. If a dictionary is stored in spam, what is the difference between the expressions 'cat' in spam and 'cat' in spam.values()?"
   ]
  },
  {
   "cell_type": "code",
   "execution_count": 6,
   "id": "ba1a32dc",
   "metadata": {},
   "outputs": [
    {
     "data": {
      "text/plain": [
       "True"
      ]
     },
     "execution_count": 6,
     "metadata": {},
     "output_type": "execute_result"
    }
   ],
   "source": [
    "spam ={'cat':8}\n",
    "'cat' in spam"
   ]
  },
  {
   "cell_type": "code",
   "execution_count": 7,
   "id": "d8b988c8",
   "metadata": {},
   "outputs": [
    {
     "data": {
      "text/plain": [
       "False"
      ]
     },
     "execution_count": 7,
     "metadata": {},
     "output_type": "execute_result"
    }
   ],
   "source": [
    "spam ={'cat':8}\n",
    "'cat' in spam.values()"
   ]
  },
  {
   "cell_type": "markdown",
   "id": "c5c09e48",
   "metadata": {},
   "source": [
    "'cat' in spam checks whether there is a 'cat' key in the dictionary <br>\n",
    "'cat' in spam.values() checks whether there is a value 'cat' for one of the keys in spam."
   ]
  },
  {
   "cell_type": "markdown",
   "id": "2a61b1f2",
   "metadata": {},
   "source": [
    "### 7. What is a shortcut for the following code?\n",
    "#### if 'color' not in spam:\n",
    "spam['color'] = 'black'"
   ]
  },
  {
   "cell_type": "code",
   "execution_count": 8,
   "id": "6125db67",
   "metadata": {},
   "outputs": [
    {
     "data": {
      "text/plain": [
       "{'cat': 8, 'color': 'black'}"
      ]
     },
     "execution_count": 8,
     "metadata": {},
     "output_type": "execute_result"
    }
   ],
   "source": [
    "spam ={'cat':8}\n",
    "spam.setdefault('color','black')\n",
    "spam"
   ]
  },
  {
   "cell_type": "markdown",
   "id": "0f9a6b94",
   "metadata": {},
   "source": [
    "### 8. How do you \"pretty print\" dictionary values using which module and function?"
   ]
  },
  {
   "cell_type": "code",
   "execution_count": 9,
   "id": "de457e23",
   "metadata": {},
   "outputs": [],
   "source": [
    "import pprint\n",
    "dct = [ {'Name': 'Shiva', 'Age': '23', 'Country': 'India'},\n",
    "  {'Name': 'Anna', 'Age': '44', 'Country': 'China'},\n",
    "  {'Name': 'Joe', 'Age': '29', 'Country': 'UK'},\n",
    "  {'Name': 'Chumlee', 'Age': '35', 'Country': 'USA'}\n",
    "]"
   ]
  },
  {
   "cell_type": "code",
   "execution_count": 10,
   "id": "1b61cefd",
   "metadata": {},
   "outputs": [
    {
     "name": "stdout",
     "output_type": "stream",
     "text": [
      "[{'Age': '23', 'Country': 'India', 'Name': 'Shiva'},\n",
      " {'Age': '44', 'Country': 'China', 'Name': 'Anna'},\n",
      " {'Age': '29', 'Country': 'UK', 'Name': 'Joe'},\n",
      " {'Age': '35', 'Country': 'USA', 'Name': 'Chumlee'}]\n"
     ]
    }
   ],
   "source": [
    "# printing with pprint()\n",
    "pprint.pprint(dct)"
   ]
  },
  {
   "cell_type": "code",
   "execution_count": 11,
   "id": "1e798aaa",
   "metadata": {},
   "outputs": [
    {
     "name": "stdout",
     "output_type": "stream",
     "text": [
      "[{'Name': 'Shiva', 'Age': '23', 'Country': 'India'}, {'Name': 'Anna', 'Age': '44', 'Country': 'China'}, {'Name': 'Joe', 'Age': '29', 'Country': 'UK'}, {'Name': 'Chumlee', 'Age': '35', 'Country': 'USA'}]\n"
     ]
    }
   ],
   "source": [
    "#Printing with print()\n",
    "print(dct)"
   ]
  }
 ],
 "metadata": {
  "kernelspec": {
   "display_name": "Python 3",
   "language": "python",
   "name": "python3"
  },
  "language_info": {
   "codemirror_mode": {
    "name": "ipython",
    "version": 3
   },
   "file_extension": ".py",
   "mimetype": "text/x-python",
   "name": "python",
   "nbconvert_exporter": "python",
   "pygments_lexer": "ipython3",
   "version": "3.8.8"
  },
  "toc": {
   "base_numbering": 1,
   "nav_menu": {},
   "number_sections": false,
   "sideBar": true,
   "skip_h1_title": false,
   "title_cell": "Table of Contents",
   "title_sidebar": "Contents",
   "toc_cell": false,
   "toc_position": {},
   "toc_section_display": true,
   "toc_window_display": false
  },
  "varInspector": {
   "cols": {
    "lenName": 16,
    "lenType": 16,
    "lenVar": 40
   },
   "kernels_config": {
    "python": {
     "delete_cmd_postfix": "",
     "delete_cmd_prefix": "del ",
     "library": "var_list.py",
     "varRefreshCmd": "print(var_dic_list())"
    },
    "r": {
     "delete_cmd_postfix": ") ",
     "delete_cmd_prefix": "rm(",
     "library": "var_list.r",
     "varRefreshCmd": "cat(var_dic_list()) "
    }
   },
   "types_to_exclude": [
    "module",
    "function",
    "builtin_function_or_method",
    "instance",
    "_Feature"
   ],
   "window_display": false
  }
 },
 "nbformat": 4,
 "nbformat_minor": 5
}
